{
 "cells": [
  {
   "cell_type": "code",
   "execution_count": null,
   "metadata": {},
   "outputs": [],
   "source": [
    "import whisper\n",
    "\n",
    "model = whisper.load_model(\"tiny\")\n",
    "\n",
    "def transcribe(audio_path: str, output_path: str = None):\n",
    "    if output_path == None:\n",
    "        output_path = f\"{audio_path}\"\n",
    "\n",
    "    result = model.transcribe(\"data/what if you wanted to go to heaven but god said .V2.mp3\", verbose=True)\n",
    "\n",
    "    with open(output_path, \"w\"):\n",
    "        f.write(result)\n",
    "        f.close()\n",
    "\n",
    "def transcribe_from_folder(folder_path: str, output_path: str = None):\n",
    "    if output_path == None:\n",
    "        output_path = f\"{folder_path}\"\n",
    "\n",
    "    for audio_file in os.listdir(folder_path):\n",
    "        if audio_file.endswith(\".mp3\"):\n",
    "            # begin a seperate popen process using the transcribe function\n",
    "            # this will allow us to transcribe multiple files at once\n",
    "            whisper.transcribe(f\"{folder_path}/{audio_file}\", f\"{output_path}/{audio_file}.txt\")\n",
    "\n",
    "            transcribe(audio_file, output_path)"
   ]
  }
 ],
 "metadata": {
  "kernelspec": {
   "display_name": "py39",
   "language": "python",
   "name": "python3"
  },
  "language_info": {
   "name": "python",
   "version": "3.9.19"
  }
 },
 "nbformat": 4,
 "nbformat_minor": 2
}
